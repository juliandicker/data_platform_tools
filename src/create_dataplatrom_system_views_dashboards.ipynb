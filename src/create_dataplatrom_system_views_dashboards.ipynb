{
 "cells": [
  {
   "cell_type": "code",
   "execution_count": 0,
   "metadata": {
    "application/vnd.databricks.v1+cell": {
     "cellMetadata": {
      "byteLimit": 2048000,
      "rowLimit": 10000
     },
     "inputWidgets": {},
     "nuid": "e3a1cf0d-8143-4077-b9d8-77075ac1420e",
     "showTitle": false,
     "title": ""
    }
   },
   "outputs": [
    {
     "data": {
      "text/plain": [
       "DataFrame[]"
      ]
     },
     "execution_count": 13,
     "metadata": {},
     "output_type": "execute_result"
    }
   ],
   "source": [
    "from databricks.sdk import WorkspaceClient\n",
    "from databricks.sdk.service import workspace\n",
    "import base64\n",
    "import json\n",
    "from pathlib import Path\n",
    "\n",
    "dbutils.widgets.text(\"catalog\", \"auk_dataplatform\")\n",
    "dbutils.widgets.text(\"schema\", \"system\")\n",
    "\n",
    "CATALOG_PATH = dbutils.widgets.get(\"catalog\")\n",
    "SCHEMA_PATH = dbutils.widgets.get(\"schema\")\n",
    "\n",
    "spark.sql(f\"USE CATALOG {CATALOG_PATH}\")\n",
    "spark.sql(f\"USE SCHEMA {SCHEMA_PATH}\")"
   ]
  },
  {
   "cell_type": "code",
   "execution_count": 0,
   "metadata": {
    "application/vnd.databricks.v1+cell": {
     "cellMetadata": {
      "byteLimit": 2048000,
      "implicitDf": true,
      "rowLimit": 10000
     },
     "inputWidgets": {},
     "nuid": "67c18c57-afe5-4b8e-8f29-4fe6f0948e8c",
     "showTitle": false,
     "title": ""
    },
    "vscode": {
     "languageId": "sql"
    }
   },
   "outputs": [],
   "source": [
    "%sql\n",
    "create or replace view all_privileges as \n",
    "\n",
    "  with all_privileges_cte (object_type, object_name, object_owner, grantee, catalog_name, schema_name, privilege_type, is_grantable, inherited_from)\n",
    "  as\n",
    "  (\n",
    "\n",
    "    select\n",
    "        'warehouse' as object_type,\n",
    "        w.name as object_name,\n",
    "        ifnull(w.owner, \"Not tagged\") as object_owner,    \n",
    "        wp.display_name grantee,\n",
    "        'N/A' as catalog_name,\n",
    "        'N/A' as schema_name,\n",
    "        privilege_type,\n",
    "        \"N/A\" as is_grantable,\n",
    "        ifnull(wp.inherited_from_object[0], 'NONE') as inherited_from\n",
    "    from warehouse_privileges as wp\n",
    "    join warehouses as w on wp.warehouse_id = w.id\n",
    "\n",
    "    union all\n",
    "\n",
    "    select\n",
    "        'cluster' as object_type,\n",
    "        c.cluster_name as object_name,\n",
    "        ifnull(c.owner, \"Not tagged\") as object_owner,    \n",
    "        cp.display_name grantee,\n",
    "        'N/A' as catalog_name,\n",
    "        'N/A' as schema_name,\n",
    "        privilege_type,\n",
    "        \"N/A\" as is_grantable,\n",
    "        ifnull(cp.inherited_from_object[0], 'NONE') as inherited_from\n",
    "    from cluster_privileges as cp\n",
    "    join clusters as c on cp.cluster_id = c.cluster_id\n",
    "\n",
    "    union all\n",
    "\n",
    "    select\n",
    "        'workspace' as object_type,\n",
    "        w.workspace_name as object_name,\n",
    "        \"N/A\" as object_owner,    \n",
    "        wp.display_name grantee,\n",
    "        'N/A' as catalog_name,\n",
    "        'N/A' as schema_name,\n",
    "        privilege_type,\n",
    "        \"N/A\" as is_grantable,\n",
    "        \"NONE\" as inherited_from\n",
    "    from workspace_privileges as wp\n",
    "    join workspaces as w on wp.workspace_id = w.workspace_id\n",
    "\n",
    "    union all\n",
    "\n",
    "    select\n",
    "        'metastore' as object_type,\n",
    "        mp.metastore_id as object_name,\n",
    "        m.metastore_owner as object_owner,    \n",
    "        grantee,\n",
    "        'N/A' as catalog_name,\n",
    "        'N/A' as schema_name,\n",
    "        privilege_type,\n",
    "        is_grantable,\n",
    "        inherited_from\n",
    "    from system.information_schema.metastore_privileges as mp\n",
    "    join system.information_schema.metastores as m on mp.metastore_id = m.metastore_id\n",
    "\n",
    "    union all\n",
    "\n",
    "    select\n",
    "        'catalog' as object_type,\n",
    "        cp.catalog_name as object_name,\n",
    "        c.catalog_owner as object_owner,\n",
    "        grantee,\n",
    "        cp.catalog_name,\n",
    "        'N/A' as schema_name,\n",
    "        privilege_type,\n",
    "        is_grantable,    \n",
    "        inherited_from\n",
    "    from system.information_schema.catalog_privileges as cp\n",
    "    join system.information_schema.catalogs as c on cp.catalog_name = c.catalog_name\n",
    "\n",
    "    union all \n",
    "\n",
    "    select\n",
    "        'schema' as object_type,\n",
    "        sp.schema_name as object_name,\n",
    "        s.schema_owner as object_owner,\n",
    "        grantee,\n",
    "        sp.catalog_name,\n",
    "        sp.schema_name,\n",
    "        privilege_type,\n",
    "        is_grantable,\n",
    "        inherited_from\n",
    "    from system.information_schema.schema_privileges as sp\n",
    "    join system.information_schema.schemata as s on sp.catalog_name = s.catalog_name and sp.schema_name = s.schema_name\n",
    "\n",
    "    union all\n",
    "\n",
    "    select\n",
    "        'table' as object_type,\n",
    "        tp.table_name as object_name,    \n",
    "        t.table_owner as object_owner,\n",
    "        grantee,\n",
    "        tp.table_catalog as catalog_name,\n",
    "        tp.table_schema as schema_name,\n",
    "        privilege_type,\n",
    "        is_grantable,\n",
    "        inherited_from\n",
    "    from system.information_schema.table_privileges as tp\n",
    "    join system.information_schema.tables as t on tp.table_catalog = t.table_catalog and tp.table_schema = t.table_schema and tp.table_name = t.table_name\n",
    "\n",
    "    union all\n",
    "\n",
    "    select\n",
    "        'volume' as object_type,\n",
    "        vp.volume_name as object_name,    \n",
    "        v.volume_owner as object_owner,\n",
    "        grantee,\n",
    "        'N/A' as catalog_name,\n",
    "        'N/A' as schema_name,\n",
    "        privilege_type,\n",
    "        is_grantable,\n",
    "        inherited_from\n",
    "    from system.information_schema.volume_privileges as vp\n",
    "    join system.information_schema.volumes as v\n",
    "    on vp.volume_catalog = v.volume_catalog and vp.volume_schema = v.volume_schema and vp.volume_name = v.volume_name\n",
    "\n",
    "    union all\n",
    "\n",
    "    select\n",
    "        'connection' as object_type,\n",
    "        cp.connection_name as object_name,\n",
    "        c.connection_owner as object_owner,\n",
    "        grantee,\n",
    "        'N/A' as catalog_name,\n",
    "        'N/A' as schema_name,\n",
    "        privilege_type,\n",
    "        is_grantable,\n",
    "        inherited_from\n",
    "    from system.information_schema.connection_privileges as cp\n",
    "    join system.information_schema.connections as c on cp.connection_name = c.connection_name\n",
    "\n",
    "    union all\n",
    "\n",
    "    select\n",
    "        'external_location' as object_type,\n",
    "        elp.external_location_name as object_name,\n",
    "        el.external_location_owner as object_owner,\n",
    "        grantee,\n",
    "        'N/A' as catalog_name,\n",
    "        'N/A' as schema_name,\n",
    "        privilege_type,\n",
    "        is_grantable,\n",
    "        inherited_from\n",
    "    from system.information_schema.external_location_privileges as elp\n",
    "    join system.information_schema.external_locations as el on elp.external_location_name = el.external_location_name\n",
    "  )\n",
    "\n",
    "  select * from all_privileges_cte\n",
    "  where object_owner not in ('System user')\n"
   ]
  },
  {
   "cell_type": "code",
   "execution_count": 0,
   "metadata": {
    "application/vnd.databricks.v1+cell": {
     "cellMetadata": {},
     "inputWidgets": {},
     "nuid": "9a6a4cdd-ac30-4128-82a8-bc6ecb23bbcb",
     "showTitle": false,
     "title": ""
    },
    "vscode": {
     "languageId": "sql"
    }
   },
   "outputs": [],
   "source": [
    "%sql\n",
    "create or replace view cluster_version_support as\n",
    "    select\n",
    "        c.cluster_id,\n",
    "        c.cluster_name,\n",
    "        ifnull(c.owner, \"Not tagged\") as object_owner,\n",
    "        c.spark_version_number,\n",
    "        rv.variants,\n",
    "        rv.release_date,\n",
    "        rv.end_of_support_date,\n",
    "        datediff(day, getdate(), rv.end_of_support_date) as days_until_end_of_support\n",
    "    from clusters as c\n",
    "    join runtime_versions as rv on rv.spark_version_number = c.spark_version_number\n"
   ]
  },
  {
   "cell_type": "code",
   "execution_count": 0,
   "metadata": {
    "application/vnd.databricks.v1+cell": {
     "cellMetadata": {
      "byteLimit": 2048000,
      "rowLimit": 10000
     },
     "inputWidgets": {},
     "nuid": "56e21d87-185f-485c-9fdb-34d938384b6b",
     "showTitle": false,
     "title": ""
    }
   },
   "outputs": [],
   "source": [
    "w = WorkspaceClient()\n",
    "\n",
    "source_dashboard_path = \"./dashboards/cluster_version_support_dashboard.lvdash.json\"\n",
    "dashboards_path = f\"/Users/{w.current_user.me().user_name}/dashboards/\"\n",
    "target_dashboard_path = f'{dashboards_path}{Path(source_dashboard_path).name}'\n",
    "\n",
    "with open(source_dashboard_path, \"r\") as file:\n",
    "    dashboard_config = json.load(file)\n",
    "\n",
    "    w.workspace.mkdirs(dashboards_path)\n",
    "    # warehouse_id = \"915ef4ce3a493369\"\n",
    "    # for i, v in enumerate(dashboard_config[\"datasets\"]):\n",
    "    #     dashboard_config[\"datasets\"][i][\"parameters\"][0][\"defaultSelection\"][\"values\"][\"values\"][0][\"value\"] = warehouse_id\n",
    "\n",
    "    w.workspace.import_(content=base64.b64encode(json.dumps(dashboard_config).encode(\"utf-8\")).decode(\"utf-8\"),\n",
    "                        format=workspace.ImportFormat.AUTO,\n",
    "                        overwrite=True,\n",
    "                        path=target_dashboard_path)\n"
   ]
  }
 ],
 "metadata": {
  "application/vnd.databricks.v1+notebook": {
   "dashboards": [],
   "environmentMetadata": null,
   "language": "python",
   "notebookMetadata": {
    "mostRecentlyExecutedCommandWithImplicitDF": {
     "commandId": 3220520896144291,
     "dataframes": [
      "_sqldf"
     ]
    },
    "pythonIndentUnit": 4
   },
   "notebookName": "create_dataplatrom_system_views_dashboards",
   "widgets": {
    "catalog": {
     "currentValue": "auk_dataplatform",
     "nuid": "31a96d9a-e0f2-4bb2-b68a-4ee735bf0af3",
     "typedWidgetInfo": {
      "autoCreated": false,
      "defaultValue": "auk_dataplatform",
      "label": null,
      "name": "catalog",
      "options": {
       "validationRegex": null,
       "widgetDisplayType": "Text"
      },
      "parameterDataType": "String"
     },
     "widgetInfo": {
      "defaultValue": "auk_dataplatform",
      "label": null,
      "name": "catalog",
      "options": {
       "autoCreated": null,
       "validationRegex": null,
       "widgetType": "text"
      },
      "widgetType": "text"
     }
    },
    "schema": {
     "currentValue": "system",
     "nuid": "12c21f84-3533-4c05-8714-78bd5e487de3",
     "typedWidgetInfo": {
      "autoCreated": false,
      "defaultValue": "system",
      "label": null,
      "name": "schema",
      "options": {
       "validationRegex": null,
       "widgetDisplayType": "Text"
      },
      "parameterDataType": "String"
     },
     "widgetInfo": {
      "defaultValue": "system",
      "label": null,
      "name": "schema",
      "options": {
       "autoCreated": null,
       "validationRegex": null,
       "widgetType": "text"
      },
      "widgetType": "text"
     }
    }
   }
  },
  "kernelspec": {
   "display_name": ".venv",
   "language": "python",
   "name": "python3"
  },
  "language_info": {
   "codemirror_mode": {
    "name": "ipython",
    "version": 3
   },
   "file_extension": ".py",
   "mimetype": "text/x-python",
   "name": "python",
   "nbconvert_exporter": "python",
   "pygments_lexer": "ipython3",
   "version": "3.11.9"
  }
 },
 "nbformat": 4,
 "nbformat_minor": 0
}
