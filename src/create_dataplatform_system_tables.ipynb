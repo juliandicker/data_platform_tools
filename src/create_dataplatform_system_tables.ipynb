{
 "cells": [
  {
   "cell_type": "markdown",
   "metadata": {
    "application/vnd.databricks.v1+cell": {
     "cellMetadata": {},
     "inputWidgets": {},
     "nuid": "ee353e42-ff58-4955-9608-12865bd0950e",
     "showTitle": false,
     "title": ""
    }
   },
   "source": [
    "# Databricks system data\n",
    "\n",
    "This notebook ingests data from [Databricks Runtime release notes](https://learn.microsoft.com/en-us/azure/databricks/release-notes/runtime/) and Databricks API.  It is executed using Databricks Workflows as defined in resources/data_platform_tools_job.yml."
   ]
  },
  {
   "cell_type": "code",
   "execution_count": 8,
   "metadata": {},
   "outputs": [],
   "source": [
    "from pyspark.sql.functions import lit, col, when, expr, get, substring_index, regexp_replace\n",
    "from databricks.sdk import AccountClient\n",
    "from data_platform_tools.databricks_system_data import DatabricksSystemData\n",
    "\n",
    "dbutils.widgets.text(\"catalog\", \"auk_dataplatform\")\n",
    "dbutils.widgets.text(\"schema\", \"system\")\n",
    "\n",
    "# --- CONFIG ----\n",
    "ACCOUNT_HOST = \"accounts.azuredatabricks.net\"\n",
    "TENANT_ID = \"c3588c15-f840-4591-875f-b3d42610f22f\"\n",
    "ACCOUNT_ID = \"42ba6f6a-250d-4e87-9433-3ab73685b3f6\"\n",
    "CLIENT_ID = \"22a10d55-9e76-464d-96bc-3e6c3e44cc35\"\n",
    "CLIENT_SECRET = dbutils.secrets.get(scope=\"kv-redkic-ne-test\", key=\"DatabricksAPI\")\n",
    "CATALOG_PATH = dbutils.widgets.get(\"catalog\")\n",
    "SCHEMA_PATH = dbutils.widgets.get(\"schema\")\n",
    "# --- END CONFIG ---\n",
    "\n",
    "spark.sql(f\"CREATE CATALOG IF NOT EXISTS {CATALOG_PATH}\")\n",
    "spark.sql(f\"CREATE SCHEMA IF NOT EXISTS {CATALOG_PATH}.{SCHEMA_PATH}\")\n",
    "\n",
    "account_client = AccountClient(\n",
    "    host = ACCOUNT_HOST,\n",
    "    account_id = ACCOUNT_ID,\n",
    "    azure_client_id = CLIENT_ID,\n",
    "    azure_client_secret = CLIENT_SECRET,\n",
    "    azure_tenant_id = TENANT_ID\n",
    ")\n",
    "\n",
    "dsd = DatabricksSystemData(\n",
    "    spark = spark,\n",
    "    account_client = account_client\n",
    "    )"
   ]
  },
  {
   "cell_type": "code",
   "execution_count": null,
   "metadata": {},
   "outputs": [],
   "source": [
    "table_name = f\"{CATALOG_PATH}.{SCHEMA_PATH}.runtime_versions\"\n",
    "df = (dsd.get_runtime_versions()\n",
    "      .withColumn(\"spark_version_number\", regexp_replace(\"version\", \" LTS\", \"\")))\n",
    "df.writeTo(table_name).createOrReplace()"
   ]
  },
  {
   "cell_type": "code",
   "execution_count": null,
   "metadata": {},
   "outputs": [],
   "source": [
    "table_name = f\"{CATALOG_PATH}.{SCHEMA_PATH}.users\"\n",
    "df = dsd.get_users()\n",
    "df = (df\n",
    "      .withColumn(\"givenname\", df.name.givenname)\n",
    "      .withColumn(\"familyname\", df.name.familyname)\n",
    "      .drop(\"name\", \"emails\"))\n",
    "df.writeTo(table_name).createOrReplace()\n"
   ]
  },
  {
   "cell_type": "code",
   "execution_count": null,
   "metadata": {},
   "outputs": [],
   "source": [
    "table_name = f\"{CATALOG_PATH}.{SCHEMA_PATH}.workspaces\"\n",
    "df = dsd.get_workspaces()\n",
    "df.writeTo(table_name).createOrReplace()"
   ]
  },
  {
   "cell_type": "code",
   "execution_count": null,
   "metadata": {},
   "outputs": [],
   "source": [
    "table_name = f\"{CATALOG_PATH}.{SCHEMA_PATH}.workspace_privileges\"\n",
    "df = dsd.get_workspace_privileges()\n",
    "df = (df\n",
    "      .withColumn(\"privilege_type\", df.permissions[0])\n",
    "      .withColumn(\"principal_id\", df.principal.principal_id)\n",
    "      .withColumn(\"type\",\n",
    "                  when(col(\"principal\").group_name.isNotNull(), lit(\"Group\"))\n",
    "                  .when(col(\"principal\").service_principal_name.isNotNull(), lit(\"Service Principal\"))\n",
    "                  .when(col(\"principal\").user_name.isNotNull(), lit(\"User\"))\n",
    "                  .otherwise(lit(\"UNKNOWN\")))\n",
    "      .withColumn(\"display_name\", when(col(\"type\") == \"User\", df.principal.user_name).otherwise(df.principal.display_name))\n",
    "      .drop(\"permissions\", \"principal\")\n",
    "     )\n",
    "\n",
    "df.writeTo(table_name).createOrReplace()"
   ]
  },
  {
   "cell_type": "code",
   "execution_count": null,
   "metadata": {},
   "outputs": [],
   "source": [
    "table_name = f\"{CATALOG_PATH}.{SCHEMA_PATH}.clusters\"\n",
    "df = dsd.get_clusters()\n",
    "df = (df\n",
    "      .withColumn(\"owner\", df.custom_tags.owner)\n",
    "      .withColumn(\"spark_version_number\", substring_index(\"spark_version\", \".x\", 1)))\n",
    "df.writeTo(table_name).createOrReplace()"
   ]
  },
  {
   "cell_type": "code",
   "execution_count": null,
   "metadata": {},
   "outputs": [],
   "source": [
    "table_name = f\"{CATALOG_PATH}.{SCHEMA_PATH}.warehouses\"\n",
    "df = dsd.get_warehouses()\n",
    "df = (df\n",
    "      .withColumn(\"owner\", get(expr(\"filter(tags.custom_tags, x -> x.key == 'owner')\"), 0).value))\n",
    "df.writeTo(table_name).createOrReplace()"
   ]
  },
  {
   "cell_type": "code",
   "execution_count": null,
   "metadata": {},
   "outputs": [],
   "source": [
    "table_name = f\"{CATALOG_PATH}.{SCHEMA_PATH}.cluster_privileges\"\n",
    "df = dsd.get_cluster_privileges()\n",
    "df.writeTo(table_name).createOrReplace()"
   ]
  },
  {
   "cell_type": "code",
   "execution_count": null,
   "metadata": {},
   "outputs": [],
   "source": [
    "table_name = f\"{CATALOG_PATH}.{SCHEMA_PATH}.warehouse_privileges\"\n",
    "df = dsd.get_warehouse_privileges()\n",
    "df.writeTo(table_name).createOrReplace()"
   ]
  }
 ],
 "metadata": {
  "application/vnd.databricks.v1+notebook": {
   "dashboards": [],
   "language": "python",
   "notebookMetadata": {
    "pythonIndentUnit": 2
   },
   "notebookName": "notebook",
   "widgets": {}
  },
  "kernelspec": {
   "display_name": ".venv",
   "language": "python",
   "name": "python3"
  },
  "language_info": {
   "codemirror_mode": {
    "name": "ipython",
    "version": 3
   },
   "file_extension": ".py",
   "mimetype": "text/x-python",
   "name": "python",
   "nbconvert_exporter": "python",
   "pygments_lexer": "ipython3",
   "version": "3.11.9"
  }
 },
 "nbformat": 4,
 "nbformat_minor": 0
}
