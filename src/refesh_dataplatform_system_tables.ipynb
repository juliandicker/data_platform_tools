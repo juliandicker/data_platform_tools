{
 "cells": [
  {
   "cell_type": "markdown",
   "metadata": {
    "application/vnd.databricks.v1+cell": {
     "cellMetadata": {},
     "inputWidgets": {},
     "nuid": "ee353e42-ff58-4955-9608-12865bd0950e",
     "showTitle": false,
     "title": ""
    }
   },
   "source": [
    "# Databricks system data\n",
    "\n",
    "This notebook ingests data from [Databricks Runtime release notes](https://learn.microsoft.com/en-us/azure/databricks/release-notes/runtime/) and Databricks API.  It is executed using Databricks Workflows as defined in resources/data_platform_tools_job.yml."
   ]
  },
  {
   "cell_type": "code",
   "execution_count": 8,
   "metadata": {},
   "outputs": [],
   "source": [
    "import pyspark.sql.functions as F\n",
    "from databricks.sdk import AccountClient\n",
    "from data_platform_tools.databricks_system_data import DatabricksSystemData\n",
    "\n",
    "dbutils.widgets.text(\"catalog\", \"auk_dataplatform\")\n",
    "dbutils.widgets.text(\"schema\", \"system\")\n",
    "dbutils.widgets.text(\"tenant_id\", \"c8e4341f-53a8-4254-9cf6-3707c9077857\")\n",
    "dbutils.widgets.text(\"account_id\", \"49d4d377-8db8-478e-bf89-18b6cd393ada\")\n",
    "dbutils.widgets.text(\"client_id\", \"9a8fa6d0-b47b-4e38-8fe3-7b8c3cdbb6f9\")\n",
    "dbutils.widgets.text(\"secret_scope\", \"kvredkic01\")\n",
    "dbutils.widgets.text(\"api_secret_key\", \"sp-dp-databricksapi\")\n",
    "\n",
    "\n",
    "CATALOG_PATH = dbutils.widgets.get(\"catalog\")\n",
    "SCHEMA_PATH = dbutils.widgets.get(\"schema\")\n",
    "\n",
    "spark.sql(f\"CREATE CATALOG IF NOT EXISTS {CATALOG_PATH}\")\n",
    "spark.sql(f\"CREATE SCHEMA IF NOT EXISTS {CATALOG_PATH}.{SCHEMA_PATH}\")\n",
    "\n",
    "account_client = AccountClient(\n",
    "    host = \"accounts.azuredatabricks.net\",\n",
    "    account_id = dbutils.widgets.get(\"account_id\"),\n",
    "    azure_client_id = dbutils.widgets.get(\"client_id\"),\n",
    "    azure_client_secret = dbutils.secrets.get(\n",
    "        scope=dbutils.widgets.get(\"secret_scope\"), key=dbutils.widgets.get(\"api_secret_key\")),\n",
    "    azure_tenant_id = dbutils.widgets.get(\"tenant_id\")\n",
    ")\n",
    "\n",
    "dsd = DatabricksSystemData(\n",
    "    spark = spark,\n",
    "    account_client = account_client\n",
    "    )"
   ]
  },
  {
   "cell_type": "code",
   "execution_count": null,
   "metadata": {},
   "outputs": [],
   "source": [
    "table_name = f\"{CATALOG_PATH}.{SCHEMA_PATH}.runtime_versions\"\n",
    "df = (dsd.get_runtime_versions()\n",
    "      .withColumn(\"spark_version_number\", F.regexp_replace(\"version\", \" LTS\", \"\")))\n",
    "df.writeTo(table_name).createOrReplace()"
   ]
  },
  {
   "cell_type": "code",
   "execution_count": null,
   "metadata": {},
   "outputs": [],
   "source": [
    "table_name = f\"{CATALOG_PATH}.{SCHEMA_PATH}.users\"\n",
    "df = dsd.get_users()\n",
    "df = (df\n",
    "      .withColumn(\"givenname\", df.name.givenname)\n",
    "      .withColumn(\"familyname\", df.name.familyname)\n",
    "      .drop(\"name\", \"emails\"))\n",
    "df.writeTo(table_name).createOrReplace()"
   ]
  },
  {
   "cell_type": "code",
   "execution_count": null,
   "metadata": {},
   "outputs": [],
   "source": [
    "table_name = f\"{CATALOG_PATH}.{SCHEMA_PATH}.workspaces\"\n",
    "df = dsd.get_workspaces()\n",
    "df.writeTo(table_name).createOrReplace()"
   ]
  },
  {
   "cell_type": "code",
   "execution_count": null,
   "metadata": {},
   "outputs": [],
   "source": [
    "table_name = f\"{CATALOG_PATH}.{SCHEMA_PATH}.workspace_privileges\"\n",
    "df = dsd.get_workspace_privileges()\n",
    "df = (df\n",
    "      .withColumn(\"privilege_type\", df.permissions[0])\n",
    "      .withColumn(\"principal_id\", df.principal.principal_id)\n",
    "      .withColumn(\"type\",\n",
    "                  F.when(F.col(\"principal\").group_name.isNotNull(), F.lit(\"Group\"))\n",
    "                  .when(F.col(\"principal\").service_principal_name.isNotNull(), F.lit(\"Service Principal\"))\n",
    "                  .when(F.col(\"principal\").user_name.isNotNull(), F.lit(\"User\"))\n",
    "                  .otherwise(F.lit(\"UNKNOWN\")))\n",
    "      .withColumn(\"display_name\",\n",
    "                  F.when(F.col(\"type\") == \"User\", df.principal.user_name)\n",
    "                  .otherwise(df.principal.display_name))\n",
    "      .drop(\"permissions\", \"principal\")\n",
    "     )\n",
    "\n",
    "df.writeTo(table_name).createOrReplace()"
   ]
  },
  {
   "cell_type": "code",
   "execution_count": null,
   "metadata": {},
   "outputs": [],
   "source": [
    "table_name = f\"{CATALOG_PATH}.{SCHEMA_PATH}.clusters\"\n",
    "df = dsd.get_clusters()\n",
    "df = (df\n",
    "      .withColumn(\"owner\", df.custom_tags.owner)\n",
    "      .withColumn(\"spark_version_number\", F.substring_index(\"spark_version\", \".x\", 1)))\n",
    "df.writeTo(table_name).createOrReplace()"
   ]
  },
  {
   "cell_type": "code",
   "execution_count": null,
   "metadata": {},
   "outputs": [],
   "source": [
    "table_name = f\"{CATALOG_PATH}.{SCHEMA_PATH}.warehouses\"\n",
    "df = dsd.get_warehouses()\n",
    "df = (df\n",
    "      .withColumn(\"owner\", F.get(F.expr(\"filter(tags.custom_tags, x -> x.key == 'owner')\"), 0).value))\n",
    "df.writeTo(table_name).createOrReplace()"
   ]
  },
  {
   "cell_type": "code",
   "execution_count": null,
   "metadata": {},
   "outputs": [],
   "source": [
    "table_name = f\"{CATALOG_PATH}.{SCHEMA_PATH}.cluster_privileges\"\n",
    "df = dsd.get_cluster_privileges()\n",
    "df.writeTo(table_name).createOrReplace()"
   ]
  },
  {
   "cell_type": "code",
   "execution_count": null,
   "metadata": {},
   "outputs": [],
   "source": [
    "table_name = f\"{CATALOG_PATH}.{SCHEMA_PATH}.warehouse_privileges\"\n",
    "df = dsd.get_warehouse_privileges()\n",
    "df.writeTo(table_name).createOrReplace()"
   ]
  },
  {
   "cell_type": "code",
   "execution_count": null,
   "metadata": {},
   "outputs": [],
   "source": [
    "table_name = f\"{CATALOG_PATH}.{SCHEMA_PATH}.dashboard_privileges\"\n",
    "df = dsd.get_dashboard_privileges()\n",
    "df.writeTo(table_name).createOrReplace()"
   ]
  },
  {
   "cell_type": "code",
   "execution_count": null,
   "metadata": {},
   "outputs": [],
   "source": [
    "# table_name = f\"{CATALOG_PATH}.{SCHEMA_PATH}.volume_privileges\"\n",
    "# df = dsd.get_volume_privileges\n",
    "# df.writeTo(table_name).createOrReplace()"
   ]
  }
 ],
 "metadata": {
  "application/vnd.databricks.v1+notebook": {
   "dashboards": [],
   "language": "python",
   "notebookMetadata": {
    "pythonIndentUnit": 2
   },
   "notebookName": "notebook",
   "widgets": {}
  },
  "kernelspec": {
   "display_name": ".venv",
   "language": "python",
   "name": "python3"
  },
  "language_info": {
   "codemirror_mode": {
    "name": "ipython",
    "version": 3
   },
   "file_extension": ".py",
   "mimetype": "text/x-python",
   "name": "python",
   "nbconvert_exporter": "python",
   "pygments_lexer": "ipython3",
   "version": "3.11.9"
  }
 },
 "nbformat": 4,
 "nbformat_minor": 0
}
